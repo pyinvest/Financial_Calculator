{
 "cells": [
  {
   "cell_type": "code",
   "execution_count": 1,
   "metadata": {},
   "outputs": [],
   "source": [
    "import numpy as np\n",
    "import pandas as pd\n",
    "import matplotlib.pyplot as plt\n",
    "from scipy.optimize import fsolve"
   ]
  },
  {
   "cell_type": "markdown",
   "metadata": {},
   "source": [
    "# 計算未來值\n",
    "## 現在開始每年存10萬元，退休時會有多少錢呢?\n",
    "## 保單每年繳6萬，繳了6年，累積了多少資金?\n",
    "# $$FV=PMT \\frac{(1+r)^y-1}{r}$$"
   ]
  },
  {
   "cell_type": "code",
   "execution_count": 2,
   "metadata": {},
   "outputs": [
    {
     "data": {
      "text/plain": [
       "330.6595410288844"
      ]
     },
     "execution_count": 2,
     "metadata": {},
     "output_type": "execute_result"
    }
   ],
   "source": [
    "PMT=10\n",
    "r=0.05\n",
    "y=20\n",
    "\n",
    "FV=PMT*((1+r)**y-1)/r\n",
    "FV"
   ]
  },
  {
   "cell_type": "markdown",
   "metadata": {},
   "source": [
    "# 計算現值\n",
    "## 退休後每年想要領30萬，退休時該存到多少錢?\n",
    "## 現在要準備多少錢，才能支付小孩大學4年每年12萬的生活費?\n",
    "# $$PV=PMT \\frac{1-(1+r)^{-y}}{r}$$"
   ]
  },
  {
   "cell_type": "code",
   "execution_count": 5,
   "metadata": {},
   "outputs": [
    {
     "data": {
      "text/plain": [
       "42.551406049948355"
      ]
     },
     "execution_count": 5,
     "metadata": {},
     "output_type": "execute_result"
    }
   ],
   "source": [
    "PMT=12\n",
    "r=0.05\n",
    "y=4\n",
    "\n",
    "PV=PMT*(1-(1+r)**(-y))/r\n",
    "PV"
   ]
  },
  {
   "cell_type": "markdown",
   "metadata": {},
   "source": [
    "# 計算利率\n",
    "## 保險業務說這個保單超划算，先繳100萬，之後10年每年可以拿回11萬，利率超高! 該如何驗證呢?\n",
    "\n",
    "# 計算年期\n",
    "## 每年存10萬，投資在債券市場，想在退休前存到200萬，該幾歲開始存呢?\n",
    "\n",
    "# 投資規劃\n",
    "## 每個月該撥出多少錢定時定額投資在股票市場，才能在5年後存到房子頭期款呢?\n"
   ]
  },
  {
   "cell_type": "code",
   "execution_count": 11,
   "metadata": {},
   "outputs": [
    {
     "name": "stdout",
     "output_type": "stream",
     "text": [
      "[9.99997544]\n"
     ]
    }
   ],
   "source": [
    "PV=100\n",
    "\n",
    "PMT=11\n",
    "r=1.7715/100\n",
    "\n",
    "def cal(y):\n",
    "    return PV-PMT*(1-(1+r)**(-y))/r\n",
    "\n",
    "init_guess=5\n",
    "y=fsolve(cal,init_guess)\n",
    "print(y)"
   ]
  },
  {
   "cell_type": "markdown",
   "metadata": {},
   "source": [
    "# 把計算機寫在函式裡面!"
   ]
  },
  {
   "cell_type": "code",
   "execution_count": 13,
   "metadata": {},
   "outputs": [],
   "source": [
    "def annuity():\n",
    "   \n",
    "    PV=input(\"請輸入現值 (若要計算現值，請輸入cpt): \")\n",
    "    r=input(\"請輸入商品年利率, e.g. 2 for 2% (若要計算年利率，請輸入cpt): \")\n",
    "    y=input(\"請輸入年期 (若要計算年期，請輸入cpt): \")\n",
    "    FV=input(\"請輸入未來值 (若要計算未來值，請輸入cpt): \")\n",
    "    PMT=input(\"請輸入每期繳款(得到)金額: \")\n",
    "    \n",
    "    def cal_Fr(r):\n",
    "        return FV-PMT*((1+r)**y-1)/r\n",
    "    def cal_Fy(y):\n",
    "        return FV-PMT*((1+r)**y-1)/r\n",
    "    def cal_Pr(r):\n",
    "        return PV-PMT*(1-(1+r)**(-y))/r\n",
    "    def cal_Py(y):\n",
    "        return PV-PMT*(1-(1+r)**(-y))/r\n",
    "    def cal_PMT_F(PMT):\n",
    "        return FV-PMT*((1+r)**y-1)/r\n",
    "    def cal_PMT_P(PMT):\n",
    "        return PV-PMT*(1-(1+r)**(-y))/r\n",
    "    \n",
    "    if FV=='cpt':\n",
    "        PMT=float(PMT)\n",
    "        r=float(r)/100\n",
    "        y=float(y)\n",
    "        FV=PMT*((1+r)**y-1)/r\n",
    "        print(str(y)+'年後，您將會有 $'+str(round(FV,2)))\n",
    "    elif PV=='cpt':\n",
    "        PMT=float(PMT)\n",
    "        r=float(r)/100\n",
    "        y=float(y)\n",
    "        PV=PMT*(1-(1+r)**(-y))/r\n",
    "        print('現在需準備(價值) $'+str(round(PV,2)))\n",
    "    elif r=='cpt':\n",
    "        PMT=float(PMT)\n",
    "        FV=float(FV)\n",
    "        PV=float(PV)\n",
    "        y=float(y)\n",
    "        init_guess=0.03\n",
    "        if PV == 0:            \n",
    "            r=fsolve(cal_Fr,init_guess)*100\n",
    "        elif FV==0:            \n",
    "            r=fsolve(cal_Pr,init_guess)*100\n",
    "        print('商品年利率為 '+str(round(float(r),2))+ '%')\n",
    "    elif y=='cpt':\n",
    "        PMT=float(PMT)\n",
    "        FV=float(FV)\n",
    "        PV=float(PV)\n",
    "        r=float(r)/100\n",
    "        init_guess=5\n",
    "        if PV==0:\n",
    "            y=fsolve(cal_Fy,init_guess)\n",
    "        if FV==0:\n",
    "            y=fsolve(cal_Py,init_guess)\n",
    "        print('需要'+str(round(float(y),2))+ '年達成!')\n",
    "    elif PMT=='cpt':\n",
    "        FV=float(FV)\n",
    "        PV=float(PV)\n",
    "        r=float(r)/100\n",
    "        y=float(y)\n",
    "        init_guess=10\n",
    "        if PV==0:\n",
    "            PMT=fsolve(cal_PMT_F,init_guess)\n",
    "        if FV==0:\n",
    "            PMT=fsolve(cal_PMT_P,init_guess)\n",
    "        print('每期需要(得到)'+str(round(float(PMT),2))+ '元')\n",
    "        "
   ]
  },
  {
   "cell_type": "code",
   "execution_count": 14,
   "metadata": {},
   "outputs": [
    {
     "name": "stdout",
     "output_type": "stream",
     "text": [
      "請輸入現值 (若要計算現值，請輸入cpt): 0\n",
      "請輸入商品年利率, e.g. 2 for 2% (若要計算年利率，請輸入cpt): 5\n",
      "請輸入年期 (若要計算年期，請輸入cpt): cpt\n",
      "請輸入未來值 (若要計算未來值，請輸入cpt): 200\n",
      "請輸入每期繳款(得到)金額: 10\n",
      "需要14.21年達成!\n"
     ]
    }
   ],
   "source": [
    "annuity()"
   ]
  },
  {
   "cell_type": "code",
   "execution_count": 15,
   "metadata": {},
   "outputs": [
    {
     "name": "stdout",
     "output_type": "stream",
     "text": [
      "請輸入現值 (若要計算現值，請輸入cpt): 100\n",
      "請輸入商品年利率, e.g. 2 for 2% (若要計算年利率，請輸入cpt): cpt\n",
      "請輸入年期 (若要計算年期，請輸入cpt): 10\n",
      "請輸入未來值 (若要計算未來值，請輸入cpt): 0\n",
      "請輸入每期繳款(得到)金額: 11\n",
      "商品年利率為 1.77%\n"
     ]
    }
   ],
   "source": [
    "annuity()"
   ]
  },
  {
   "cell_type": "code",
   "execution_count": null,
   "metadata": {},
   "outputs": [],
   "source": []
  }
 ],
 "metadata": {
  "kernelspec": {
   "display_name": "Python 3",
   "language": "python",
   "name": "python3"
  },
  "language_info": {
   "codemirror_mode": {
    "name": "ipython",
    "version": 3
   },
   "file_extension": ".py",
   "mimetype": "text/x-python",
   "name": "python",
   "nbconvert_exporter": "python",
   "pygments_lexer": "ipython3",
   "version": "3.5.6"
  }
 },
 "nbformat": 4,
 "nbformat_minor": 2
}
