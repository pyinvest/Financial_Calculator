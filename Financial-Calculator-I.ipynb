{
 "cells": [
  {
   "cell_type": "code",
   "execution_count": 1,
   "metadata": {},
   "outputs": [],
   "source": [
    "import numpy as np\n",
    "import pandas as pd\n",
    "import matplotlib.pyplot as plt"
   ]
  },
  {
   "cell_type": "markdown",
   "metadata": {},
   "source": [
    "# 計算未來值\n",
    "## 現在存100萬在銀行十年後可以拿到多少錢?\n",
    "## 若將這筆錢放在債券市場呢?\n",
    "## 投資在股市上呢?\n",
    "# $$FV=PV(1+r)^y$$"
   ]
  },
  {
   "cell_type": "code",
   "execution_count": 2,
   "metadata": {},
   "outputs": [
    {
     "name": "stdout",
     "output_type": "stream",
     "text": [
      "404.5557735707907\n"
     ]
    }
   ],
   "source": [
    "PV=100\n",
    "y=10\n",
    "r=15/100\n",
    "FV=PV*(1+r)**y\n",
    "print(FV)"
   ]
  },
  {
   "cell_type": "code",
   "execution_count": 3,
   "metadata": {},
   "outputs": [
    {
     "data": {
      "text/plain": [
       "<matplotlib.axes._subplots.AxesSubplot at 0x17978239ba8>"
      ]
     },
     "execution_count": 3,
     "metadata": {},
     "output_type": "execute_result"
    },
    {
     "data": {
      "image/png": "[encoded data removed]",
      "text/plain": [
       "<Figure size 432x288 with 1 Axes>"
      ]
     },
     "metadata": {
      "needs_background": "light"
     },
     "output_type": "display_data"
    }
   ],
   "source": [
    "FV_list=[]\n",
    "for i in range(y+1):\n",
    "    FV=PV*(1+r)**i\n",
    "    FV_list.append(FV)\n",
    "FV=pd.DataFrame(FV_list)\n",
    "FV.plot()"
   ]
  },
  {
   "cell_type": "markdown",
   "metadata": {},
   "source": [
    "# 計算現值\n",
    "## 未來買房的頭期款需要300萬，現在需要準備多少錢?\n",
    "## 未來小孩讀大學需要50萬，現在需要準備多少錢?\n",
    "# $$ PV=\\frac{FV}{(1+r)^y} $$"
   ]
  },
  {
   "cell_type": "code",
   "execution_count": 4,
   "metadata": {},
   "outputs": [
    {
     "name": "stdout",
     "output_type": "stream",
     "text": [
      "149.15302058948697\n"
     ]
    }
   ],
   "source": [
    "FV=300\n",
    "y=5\n",
    "r=15/100\n",
    "PV=FV/(1+r)**y\n",
    "print(PV)"
   ]
  },
  {
   "cell_type": "markdown",
   "metadata": {},
   "source": [
    "# 計算所需報酬率\n",
    "## 現在有1萬，想在5年後存到歐洲旅遊基金10萬元，需要找到年化報酬率多少的商品?\n",
    "## 10年前投入了5萬買股票型基金，現在價值10萬元，我的年化報酬率是多少?\n",
    "# $$r=(\\frac{FV}{PV})^{\\frac{1}{y}}-1$$"
   ]
  },
  {
   "cell_type": "code",
   "execution_count": 5,
   "metadata": {},
   "outputs": [
    {
     "name": "stdout",
     "output_type": "stream",
     "text": [
      "0.07177346253629313\n"
     ]
    }
   ],
   "source": [
    "FV=10\n",
    "PV=5\n",
    "y=10\n",
    "r=(FV/PV)**(1/y)-1\n",
    "print(r)"
   ]
  },
  {
   "cell_type": "markdown",
   "metadata": {},
   "source": [
    "# 計算所需時間\n",
    "## 現在有100萬，投資在定存上，要幾年才會變成200萬呢?\n",
    "## 如果投資在股票市場呢?\n",
    "# $$y=\\frac{log\\frac{FV}{PV}}{log(1+r)}$$"
   ]
  },
  {
   "cell_type": "code",
   "execution_count": 6,
   "metadata": {},
   "outputs": [
    {
     "name": "stdout",
     "output_type": "stream",
     "text": [
      "7.272540897341713\n"
     ]
    }
   ],
   "source": [
    "pv=100\n",
    "FV=200\n",
    "r=10/100\n",
    "y=np.log(FV/pv)/np.log(1+r)\n",
    "print(y)"
   ]
  },
  {
   "cell_type": "markdown",
   "metadata": {},
   "source": [
    "# 自製財務計算機!\n",
    "## 包裝成函式 → def f(x):\n",
    "## 邏輯判斷式→ If...elif...else"
   ]
  },
  {
   "cell_type": "code",
   "execution_count": 7,
   "metadata": {},
   "outputs": [],
   "source": [
    "def Financial_calculator():\n",
    "    PV=float(input(\"Please enter the principal (If you don't know, please enter 0): \"))\n",
    "    r=float(input(\"Please enter the interest rate (return rate), e.g. 2 for 2% (If you don't know, please enter 0): \"))/100\n",
    "    y=float(input(\"Please enter the years (If you don't know, please enter 0): \"))\n",
    "    FV=float(input(\"Please the amount you need in the future (If you don't know, please enter 0): \"))\n",
    "    if FV==0:\n",
    "        FV=PV*(1+r)**y\n",
    "        print('You will have '+str(round(FV,2))+' after '+str(y)+' years.')\n",
    "        FV_list=[]\n",
    "        for i in range(int(y)+1):\n",
    "            FV=PV*(1+r)**i\n",
    "            FV_list.append(FV)\n",
    "        FV_list=pd.Series(FV_list)\n",
    "        FV_list.plot()\n",
    "        plt.title('Accumulated Asset')\n",
    "    elif PV==0:\n",
    "        PV=FV/(1+r)**y\n",
    "        print('You need to deposit $'+str(round(PV,2))+ ' today')\n",
    "    elif r==0:\n",
    "        r=(FV/PV)**(1/y)-1\n",
    "        r=r*100\n",
    "        print('You need to find an financial product with '+str(round(r,2))+ '% per year')\n",
    "    elif y==0:\n",
    "        y=np.log(FV/PV)/np.log(1+r)\n",
    "        print('You will achieve your goal in '+str(round(y,2))+ ' years')\n",
    "        "
   ]
  },
  {
   "cell_type": "code",
   "execution_count": 8,
   "metadata": {},
   "outputs": [
    {
     "name": "stdout",
     "output_type": "stream",
     "text": [
      "Please enter the principal (If you don't know, please enter 0): 100\n",
      "Please enter the interest rate (return rate), e.g. 2 for 2% (If you don't know, please enter 0): 15\n",
      "Please enter the years (If you don't know, please enter 0): 10\n",
      "Please the amount you need in the future (If you don't know, please enter 0): 0\n",
      "You will have 404.56 after 10.0 years.\n"
     ]
    },
    {
     "data": {
      "image/png": "[encoded data removed]",
      "text/plain": [
       "<Figure size 432x288 with 1 Axes>"
      ]
     },
     "metadata": {
      "needs_background": "light"
     },
     "output_type": "display_data"
    }
   ],
   "source": [
    "Financial_calculator()"
   ]
  },
  {
   "cell_type": "code",
   "execution_count": null,
   "metadata": {},
   "outputs": [],
   "source": []
  }
 ],
 "metadata": {
  "kernelspec": {
   "display_name": "Python 3",
   "language": "python",
   "name": "python3"
  },
  "language_info": {
   "codemirror_mode": {
    "name": "ipython",
    "version": 3
   },
   "file_extension": ".py",
   "mimetype": "text/x-python",
   "name": "python",
   "nbconvert_exporter": "python",
   "pygments_lexer": "ipython3",
   "version": "3.5.6"
  }
 },
 "nbformat": 4,
 "nbformat_minor": 2
}
